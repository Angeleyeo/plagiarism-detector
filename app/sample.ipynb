{
 "cells": [
  {
   "cell_type": "code",
   "execution_count": 1,
   "metadata": {},
   "outputs": [
    {
     "name": "stdout",
     "output_type": "stream",
     "text": [
      "Loading function\n"
     ]
    }
   ],
   "source": [
    "from plagiarism_detector import lambda_handler"
   ]
  },
  {
   "cell_type": "code",
   "execution_count": 16,
   "metadata": {},
   "outputs": [],
   "source": [
    "event = {\n",
    "    \"input_doc_name\": \"input_string_name\",\n",
    "    \"input_doc\": \"Pride Russians suffered accordingly.  While naturally precedes dramatic art poetry, drama, on the other hand, can achieve a degree of excellence where the theater is in a miserable state. It is now barely half a century from the beginning was an effort to remove all the lack of scientific culture in the Russian nation, but what are fifty years for such purpose, in a country so huge? The number of received scientific stimulus and was carried to a degree of intellectual sophistication is very low, and a happy accident that is genius among the small number must be very rare. And in this respect, it is noteworthy that the Russians who feels called to the artistic production almost always show a trend of view of epic composition.  Difficulties as the Russian seem terrible. In love, written as he embarrasses less and therefore have almost all the throws in the making of novels.  As is generally the case in the early literature of every nation, every writer in Russia is taken for a miracle, and looked with astonishment. Kukolnik playwright is an example. He wrote a good deal for the theater, but nothing is as it should be praised as much as his zeal in imitation. It must be admitted that in this he possesses a remarkable degree of dexterity. He soon became the area's favorite love, but this also he shows weakness at the national level. In each of his numerous works the most striking feature is the lack of organization. They were completed with no beginning and author ever thought a plot, or mode of treatment\",\n",
    "    \"source_docs\": [\n",
    "        {\n",
    "        \"source_doc_name\": \"Russian source 1\",\n",
    "        \"source_doc\": \"achieve degree of excellence where the theater is in a miserable state\"\n",
    "        },\n",
    "\n",
    "        {\n",
    "        \"source_doc\": \"achieve degree of excellence where the theater is in a miserable state\",\n",
    "        \"source_doc_name\": \"Russian source 2\",\n",
    "        }\n",
    "    ],\n",
    "    \"matching_type\": \"1-many\"\n",
    "}\n",
    "\n",
    "context = ''\n",
    "\n",
    "many_response = lambda_handler(event, context)"
   ]
  },
  {
   "cell_type": "code",
   "execution_count": 15,
   "metadata": {},
   "outputs": [],
   "source": [
    "event = {\n",
    "    \"input_doc_name\": \"input_string_name\",\n",
    "    \"input_doc\": \"Pride Russians suffered accordingly.  While naturally precedes dramatic art poetry, drama, on the other hand, can achieve a degree of excellence where the theater is in a miserable state. It is now barely half a century from the beginning was an effort to remove all the lack of scientific culture in the Russian nation, but what are fifty years for such purpose, in a country so huge? The number of received scientific stimulus and was carried to a degree of intellectual sophistication is very low, and a happy accident that is genius among the small number must be very rare. And in this respect, it is noteworthy that the Russians who feels called to the artistic production almost always show a trend of view of epic composition.  Difficulties as the Russian seem terrible. In love, written as he embarrasses less and therefore have almost all the throws in the making of novels.  As is generally the case in the early literature of every nation, every writer in Russia is taken for a miracle, and looked with astonishment. Kukolnik playwright is an example. He wrote a good deal for the theater, but nothing is as it should be praised as much as his zeal in imitation. It must be admitted that in this he possesses a remarkable degree of dexterity. He soon became the area's favorite love, but this also he shows weakness at the national level. In each of his numerous works the most striking feature is the lack of organization. They were completed with no beginning and author ever thought a plot, or mode of treatment\",\n",
    "    \"source_docs\": [\n",
    "        {\n",
    "        \"source_doc_name\": \"Russian source 1\",\n",
    "        \"source_doc\": \"achieve degree of excellence where the theater is in a miserable state\"\n",
    "        },\n",
    "\n",
    "        {\n",
    "        \"source_doc\": \"achieve degree of excellence where the theater is in a miserable state\",\n",
    "        \"source_doc_name\": \"Russian source 2\",\n",
    "        }\n",
    "    ],\n",
    "    \"matching_type\": \"1-1\"\n",
    "}\n",
    "\n",
    "context = ''\n",
    "\n",
    "one_response = lambda_handler(event, context)"
   ]
  },
  {
   "cell_type": "code",
   "execution_count": 17,
   "metadata": {},
   "outputs": [
    {
     "data": {
      "text/plain": [
       "{'status_code': 200,\n",
       " 'success': True,\n",
       " 'body': [{'input_doc_name': 'input_string_name',\n",
       "   'plagiarism_flag': 0,\n",
       "   'plagiarism_score': 0.30969695066252084,\n",
       "   'plagiarised_text': [{'sentence': 'While naturally precedes dramatic art poetry, drama, on the other hand, can achieve a degree of excellence where the theater is in a miserable state',\n",
       "     'start_char_index': 36,\n",
       "     'end_char_index': 183,\n",
       "     'source_sentence': 'hand achieve a degree of excellence where the theater is in a miserable state ',\n",
       "     'source_doc_name': 'Russian source 1',\n",
       "     'score': 0.9207401897413285}]},\n",
       "  {'input_doc_name': 'input_string_name',\n",
       "   'plagiarism_flag': 0,\n",
       "   'plagiarism_score': 0.30969695066252084,\n",
       "   'plagiarised_text': [{'sentence': 'While naturally precedes dramatic art poetry, drama, on the other hand, can achieve a degree of excellence where the theater is in a miserable state',\n",
       "     'start_char_index': 36,\n",
       "     'end_char_index': 183,\n",
       "     'source_sentence': 'hand achieve a degree of excellence where the theater is in a miserable state ',\n",
       "     'source_doc_name': 'Russian source 2',\n",
       "     'score': 0.9207401897413285}]}]}"
      ]
     },
     "execution_count": 17,
     "metadata": {},
     "output_type": "execute_result"
    }
   ],
   "source": [
    "one_response"
   ]
  },
  {
   "cell_type": "code",
   "execution_count": 18,
   "metadata": {},
   "outputs": [
    {
     "data": {
      "text/plain": [
       "{'status_code': 200,\n",
       " 'success': True,\n",
       " 'body': {'input_doc_name': 'input_string_name',\n",
       "  'plagiarism_flag': 0,\n",
       "  'plagiarism_score': 0.30969695066252084,\n",
       "  'plagiarised_text': [{'sentence': 'While naturally precedes dramatic art poetry, drama, on the other hand, can achieve a degree of excellence where the theater is in a miserable state',\n",
       "    'start_char_index': 36,\n",
       "    'end_char_index': 183,\n",
       "    'source_sentence': 'hand achieve a degree of excellence where the theater is in a miserable state ',\n",
       "    'source_doc_name': 'Russian source 1',\n",
       "    'score': 0.9207401897413285},\n",
       "   {'sentence': 'While naturally precedes dramatic art poetry, drama, on the other hand, can achieve a degree of excellence where the theater is in a miserable state',\n",
       "    'start_char_index': 36,\n",
       "    'end_char_index': 183,\n",
       "    'source_sentence': 'hand achieve a degree of excellence where the theater is in a miserable state ',\n",
       "    'source_doc_name': 'Russian source 2',\n",
       "    'score': 0.9207401897413285}]}}"
      ]
     },
     "execution_count": 18,
     "metadata": {},
     "output_type": "execute_result"
    }
   ],
   "source": [
    "many_response"
   ]
  }
 ],
 "metadata": {
  "kernelspec": {
   "display_name": "lambda_venv",
   "language": "python",
   "name": "python3"
  },
  "language_info": {
   "codemirror_mode": {
    "name": "ipython",
    "version": 3
   },
   "file_extension": ".py",
   "mimetype": "text/x-python",
   "name": "python",
   "nbconvert_exporter": "python",
   "pygments_lexer": "ipython3",
   "version": "3.8.9"
  },
  "orig_nbformat": 4
 },
 "nbformat": 4,
 "nbformat_minor": 2
}
